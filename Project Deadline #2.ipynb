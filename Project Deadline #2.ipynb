{
 "cells": [
  {
   "cell_type": "code",
   "execution_count": null,
   "metadata": {
    "collapsed": true
   },
   "outputs": [],
   "source": [
    "# pseudocode for file input-output and some loops for data manipulation\n",
    "\n",
    "# pbdb_FULLDATA_sloths.csv\n",
    "\n",
    "\n"
   ]
  },
  {
   "cell_type": "code",
   "execution_count": null,
   "metadata": {
    "collapsed": true
   },
   "outputs": [],
   "source": [
    "Input-output Pseudocode\n",
    "\n",
    "input = pbdb_FULLDATA_sloths.csv\n",
    "GroupBySpecies = group input by unique species\n",
    "GroupByState = for each species in GroupBySpecies, count how many times an occurance is in a unique state\n",
    "Then with this Output, visualize the data (not sure how to do this yet, so just an idea) showing a density map of where each sloth lived \n",
    "\n",
    "\n",
    "\n",
    "Data Manipulation with for Loop\n",
    "\n",
    "for sloths in the pbdb_FULLDATA_sloths.csv file\n",
    "    group by species\n",
    "for species in GroupBySpecies:\n",
    "     make a list of the state and its number of occurences for each species\n",
    "for species in GroupByState:\n",
    "     print out the number of each species in each country and state"
   ]
  }
 ],
 "metadata": {
  "anaconda-cloud": {},
  "kernelspec": {
   "display_name": "Python [default]",
   "language": "python",
   "name": "python3"
  },
  "language_info": {
   "codemirror_mode": {
    "name": "ipython",
    "version": 3
   },
   "file_extension": ".py",
   "mimetype": "text/x-python",
   "name": "python",
   "nbconvert_exporter": "python",
   "pygments_lexer": "ipython3",
   "version": "3.5.2"
  }
 },
 "nbformat": 4,
 "nbformat_minor": 2
}
