{
 "cells": [
  {
   "cell_type": "markdown",
   "metadata": {},
   "source": [
    "# **Function Purpose**\n",
    "### The purpose of this function is to isolate the species and the different geographical states their fossils were discovered.\n",
    "\n",
    "### I listed the different codes and steps/processes I underwent to get to my final ~but still not perfect probably~ function (step 4 has my actual function and output)"
   ]
  },
  {
   "cell_type": "markdown",
   "metadata": {},
   "source": [
    "## 1. Before I could analyze my data, I noticed there were errors because there were empty lines between each row\n",
    "\n",
    "### to do this I ran the following code in my terminal\n",
    "\n",
    "`eeb177-student@eeb177-VirtualBox:~/Desktop/eeb-177/eeb-177-final-project$ tr -d \"\\n\\r\" < formatted_sloth_pbdb_final_data.csv`"
   ]
  },
  {
   "cell_type": "markdown",
   "metadata": {},
   "source": [
    "## 2. Using the functions we wrote in lecture, I played around with my data to try and get the columns and information I needed with for loops and dictionaries."
   ]
  },
  {
   "cell_type": "code",
   "execution_count": 134,
   "metadata": {
    "collapsed": false
   },
   "outputs": [
    {
     "name": "stdout",
     "output_type": "stream",
     "text": [
      "the location of \"cf. Hyperleptus sp.\" is \"Santa Cruz\"\n"
     ]
    }
   ],
   "source": [
    "def make_locational_sloth_dict(filename):\n",
    "    slothDict = {}\n",
    "    opening_sloth_data = open(filename, 'r', encoding = \"ISO-8859-1\")\n",
    "    reading_sloth_data = opening_sloth_data.readlines()[17:]\n",
    "    for line in reading_sloth_data:\n",
    "        species = line.split(\",\")[5]\n",
    "        state = line.split(\",\")[35]\n",
    "        slothDict[species]= state\n",
    "    return slothDict\n",
    "\n",
    "slothData = make_locational_sloth_dict(\"formatted_sloth_pbdb_final_data.csv\")\n",
    "species = list(slothData.keys()) \n",
    "\n",
    "print(\"the location of \" + species[0] + \" is \" + slothData[species[0]])"
   ]
  },
  {
   "cell_type": "markdown",
   "metadata": {},
   "source": [
    "## 3. To work on my actual function, I created an empty dictionary and went through each line to extract the two columns I wanted- species and state. These became the key and value variables in my data set. However, after writing a code and running it, I realized that dictionaries are indexed by unique keys, so any species that was listed multiple times, because it was found in multiple states, was only listed once based on its last occurance. "
   ]
  },
  {
   "cell_type": "code",
   "execution_count": 140,
   "metadata": {
    "collapsed": false,
    "scrolled": true
   },
   "outputs": [
    {
     "name": "stdout",
     "output_type": "stream",
     "text": [
      "the location of \"cf. Hyperleptus sp.\" is \"Santa Cruz\"\n",
      "the location of \"Megalonyx n. sp. mathisi\" is \"California\"\n",
      "the location of \"Pliometanastes n. sp. protistus\" is \"Florida\"\n",
      "the location of \"Torcellia paranense\" is \"\"\n",
      "the location of \"n. gen. Paulocnus n. sp. petrifactus\" is \"CuraÃ§ao\"\n",
      "the location of \"Australonyx n. sp. aquae\" is \"Bahia\"\n",
      "the location of \"Nothropus tarijensis\" is \"Tarija\"\n",
      "the location of \"n. gen. Ahytherium n. sp. aureum\" is \"Bahia\"\n",
      "the location of \"Megalonyx cf. jerrersonii\" is \"West Virginia\"\n",
      "the location of \"Amphiocnus seneus\" is \"\"\n",
      "the location of \"Pliomorphus brevis\" is \"\"\n",
      "the location of \"Megalonyx sp.\" is \"Mississippi\"\n",
      "the location of \"Miocnus n. sp. antillensis\" is \"\"\n",
      "the location of \"Pliometanastes ? n. sp. galushai\" is \"New Mexico\"\n",
      "the location of \"Megalonychidae sp.\" is \"La Guajira\"\n",
      "the location of \"Megalonyx cf. jeffersoni\" is \"US\"\n",
      "the location of \"Pliometanastes sp.\" is \"California\"\n",
      "the location of \"Amphiocnus paranense\" is \"\"\n",
      "the location of \"Megalonychinae indet.\" is \"\"\n",
      "the location of \"Megalonychidae indet.\" is \"AA\"\n",
      "the location of \"Protomegalonyx praecursor\" is \"\"\n",
      "the location of \"Megalonyx wheatleyi\" is \"Florida\"\n",
      "the location of \"Megalonyx rohrmanni\" is \"Washington\"\n",
      "the location of \"Mesocnus n. sp. browni\" is \"CU\"\n",
      "the location of \"Microcnus gliriformis\" is \"\"\n",
      "the location of \"Megalonyx leptostomus\" is \"Florida\"\n",
      "the location of \"Megalonyx curvidens\" is \"Nebraska\"\n",
      "the location of \"Pliomorphus sp.\" is \"Acre\"\n",
      "the location of \"Pliometanastes cf. protistus\" is \"Texas\"\n",
      "the location of \"Ortotherium schlosseri\" is \"\"\n",
      "the location of \"cf. Ahytherium aureum\" is \"SÃ£o Paulo\"\n",
      "the location of \"identified_name\" is \"state\"\n",
      "the location of \"Megalonychops primigenius\" is \"\"\n",
      "the location of \"Megalocnus sp.\" is \"Pinar del RÃ­o\"\n",
      "the location of \"Mesocnus sp.\" is \"Pinar del RÃ­o\"\n",
      "the location of \"Hyperleptus sp.\" is \"Santa Cruz\"\n",
      "the location of \"Protomegalonyx doellojuradoi\" is \"\"\n",
      "the location of \"cf. Megalonyx sp.\" is \"California\"\n",
      "the location of \"Diabolotherium nordenskioldi\" is \"La Libertad\"\n",
      "the location of \"Megalonyx ? jeffersonii\" is \"Oklahoma\"\n",
      "the location of \"n. gen. Paranabradys n. sp. vucetichae\" is \"Entre RÃ­os\"\n",
      "the location of \"Megalonyx cf. brachycephalus\" is \"Texas\"\n",
      "the location of \"Mesocnus n. sp. torrei\" is \"\"\n",
      "the location of \"Megalonyx ? sp.\" is \"Alberta\"\n",
      "the location of \"Megalonychidae ? indet.\" is \"Mendoza\"\n",
      "the location of \"Choloepus didactylus\" is  \"\n",
      "the location of \"cf. Protomegalonyx sp.\" is \"Acre\"\n",
      "the location of \"Ortotherium laticurvatum\" is \"\"\n",
      "the location of \"Acratocnus odontrigonus\" is \"\"\n",
      "the location of \"Megalonyx jeffersoni\" is \"US\"\n",
      "the location of \"Ortotherium scrofum\" is \"\"\n",
      "the location of \"Megalonyx cf. leptostomus\" is \"New Mexico\"\n",
      "the location of \"Ortotherium brevirostrum\" is \"\"\n",
      "the location of \"Pliometanastes protistus\" is \"California\"\n",
      "the location of \"Megalonyx indet.\" is \"Georgia\"\n",
      "the location of \"Pliomorphus mutilatus\" is \"\"\n",
      "the location of \"Megalonyx cf. jeffersonii\" is \"California\"\n",
      "the location of \"Ortotherium robustum\" is \"\"\n",
      "the location of \"Protomegalonyx chasicoensis\" is \"Buenos Aires\"\n",
      "the location of \"Ocnopus gracilis\" is \"Minas Gerais\"\n",
      "the location of \"Pliomorphus ameghinoi\" is \"\"\n",
      "the location of \"Megalonyx cf. curvidens\" is \"Nebraska\"\n",
      "the location of \"Imagocnus zazae\" is \"Sancti Spiritus\"\n",
      "the location of \"Pliomorphus ameghinioi\" is \"\"\n",
      "the location of \"Megalonyx obtusidens\" is \"\"\n",
      "the location of \"Pliomorphus robustus\" is \"\"\n",
      "the location of \"Megalonyx jeffersonii\" is \"Florida\"\n",
      "the location of \"Meizonyx salvadorensis\" is \"\"\n",
      "the location of \"Choloepus hoffmanni\" is  \"\n"
     ]
    }
   ],
   "source": [
    "def make_locational_sloth_dict(filename):\n",
    "    slothDict = {}\n",
    "    opening_sloth_data = open(filename, 'r', encoding = \"ISO-8859-1\")\n",
    "    reading_sloth_data = opening_sloth_data.readlines()[17:]\n",
    "    for line in reading_sloth_data:\n",
    "        species = line.split(\",\")[5]\n",
    "        state = line.split(\",\")[35]\n",
    "        slothDict[species]= state\n",
    "    return slothDict\n",
    "\n",
    "slothData = make_locational_sloth_dict(\"formatted_sloth_pbdb_final_data.csv\")\n",
    "species = list(slothData.keys()) \n",
    "\n",
    "for i in range(len(species)):\n",
    "    # I used range(50) so it would only print out part\n",
    "    print(\"the location of \" + species[i] + \" is \" + slothData[species[i]])"
   ]
  },
  {
   "cell_type": "markdown",
   "metadata": {},
   "source": [
    "## 4. To fix this, I stored a list of locations in the dictionary rather than the individual location at each species key, (by importing defaultdict and adding a conditional statement) resulting in my _final function_\n",
    "\n",
    "### of course with the help of google"
   ]
  },
  {
   "cell_type": "code",
   "execution_count": 1,
   "metadata": {
    "collapsed": false,
    "scrolled": true
   },
   "outputs": [
    {
     "name": "stdout",
     "output_type": "stream",
     "text": [
      "the fossils of the species \"Pliomorphus brevis\" were discovered in the states \"\"\n",
      "the fossils of the species \"Megalonyx cf. leptostomus\" were discovered in the states \"Kansas\", \"New Mexico\"\n",
      "the fossils of the species \"Miocnus n. sp. antillensis\" were discovered in the states \"\"\n",
      "the fossils of the species \"Megalonyx curvidens\" were discovered in the states \"Nebraska\", \"Nebraska\", \"Nebraska\"\n",
      "the fossils of the species \"Ortotherium laticurvatum\" were discovered in the states \"\"\n",
      "the fossils of the species \"Megalonychinae indet.\" were discovered in the states \"Huila\", \"\"\n",
      "the fossils of the species \"Diabolotherium nordenskioldi\" were discovered in the states \"La Libertad\"\n",
      "the fossils of the species \"Australonyx n. sp. aquae\" were discovered in the states \"Bahia\"\n",
      "the fossils of the species \"Ortotherium robustum\" were discovered in the states \"\"\n",
      "the fossils of the species \"Pliomorphus ameghinoi\" were discovered in the states \"\"\n",
      "the fossils of the species \"Ortotherium brevirostrum\" were discovered in the states \"\"\n",
      "the fossils of the species \"Choloepus hoffmanni\" were discovered in the states  \",  \"\n",
      "the fossils of the species \"cf. Megalonyx sp.\" were discovered in the states  3060\", \"California\"\n",
      "the fossils of the species \"Mesocnus n. sp. torrei\" were discovered in the states \"\"\n",
      "the fossils of the species \"Megalonyx wheatleyi\" were discovered in the states \"California\", \"South Dakota\", \"Florida\", \"Sonora\", \"California\", \"Florida\", \"New Mexico\", \"Florida\", \"Florida\", \"Pennsylvania\", \"Florida\"\n",
      "the fossils of the species \"Megalonyx ? sp.\" were discovered in the states \"Kansas\", \"California\", \"Saskatchewan\", \"Alberta\"\n",
      "the fossils of the species \"Megalonyx indet.\" were discovered in the states \"Georgia\"\n",
      "the fossils of the species \"Megalonychidae indet.\" were discovered in the states \"Texas\", \"Nebraska\", \"Nebraska\", \"Kansas\", \"Oregon\", \"Nevada\", \"Nevada\", \"California\", \"California\", \"California\", \"California\", \"California\", \"Zulia\", \"Acre\", \"\", \"\", \"Piaui\", \"Piaui\", \"Tolima\", \"Tolima\", \"Huila\", \"Santa Elena\", \"La Paz\", \"Amazonas\", \"Tolima\", \"Tolima\", \"Zacatecas\", \"Zacatecas\", \"Ucayali\", \"Chubut\", \"Santa Cruz\", \"AR\",  Salla Beds\", \"AA\"\n",
      "the fossils of the species \"Nothropus tarijensis\" were discovered in the states \"Tarija\"\n",
      "the fossils of the species \"Megalonyx leptostomus\" were discovered in the states \"New Mexico\", \"Florida\", \"Florida\", \"Florida\", \"Florida\", \"Florida\", \"Idaho\", \"Kansas\", \"Nebraska\", \"Nevada\", \"South Dakota\", \"Texas\", \"Texas\", \"Texas\", \"Washington\", \"Florida\", \"Florida\", \"Florida\"\n",
      "the fossils of the species \"Pliometanastes n. sp. protistus\" were discovered in the states \"Florida\"\n",
      "the fossils of the species \"Pliometanastes ? n. sp. galushai\" were discovered in the states \"New Mexico\"\n",
      "the fossils of the species \"Megalonyx sp.\" were discovered in the states \"Texas\", \"Nebraska\", \"Nebraska\", \"Oklahoma\", \"Guanajuato\", \"Hidalgo\", \"Oregon\", \"California\", \"Arizona\", \"Arizona\", \"Arizona\", \"Arizona\", \"California\", \"California\", \"California\", \"Idaho\", \"Idaho\", \"Kansas\", \"Nebraska\",  7\", \"Texas\", \"Texas\", \"Texas\", \"Baja California Sur\", \"California\", \"California\", \"California\", \"California\", \"California\", \"California\", \"California\", \"California\", \"California\",  4283; SBCM 1.86.4, \"California\", \"Kansas\", \"Kansas\", \"Maryland\", \"California\",  4178,  3605\", \"Florida\", \"Florida\", \"California\",  V-40005<br>DUPLICATE REF 2018 or 2019\",  San Pedro: LACM 1026, \"Florida\", \"Nebraska\", \"New Jersey\", \"\", \"Peten\", \"California\", \"Florida\", \"Georgia\",  San Pedro: LACM 1026, \"California\", \"California\", \"West Virginia\", \"Mississippi\"\n",
      "the fossils of the species \"Megalocnus sp.\" were discovered in the states \"Pinar del RÃ­o\"\n",
      "the fossils of the species \"Megalonyx cf. jerrersonii\" were discovered in the states \"West Virginia\"\n",
      "the fossils of the species \"Megalonyx n. sp. mathisi\" were discovered in the states \"California\"\n",
      "the fossils of the species \"cf. Hyperleptus sp.\" were discovered in the states \"Santa Cruz\"\n",
      "the fossils of the species \"Choloepus didactylus\" were discovered in the states  \"\n",
      "the fossils of the species \"Megalonyx obtusidens\" were discovered in the states \"\"\n",
      "the fossils of the species \"Pliometanastes cf. protistus\" were discovered in the states \"Texas\"\n",
      "the fossils of the species \"Protomegalonyx praecursor\" were discovered in the states \"\"\n",
      "the fossils of the species \"n. gen. Paulocnus n. sp. petrifactus\" were discovered in the states \"CuraÃ§ao\"\n",
      "the fossils of the species \"Microcnus gliriformis\" were discovered in the states \"\"\n",
      "the fossils of the species \"Megalonyx jeffersoni\" were discovered in the states \"US\", \"US\"\n",
      "the fossils of the species \"Amphiocnus paranense\" were discovered in the states \"\"\n",
      "the fossils of the species \"Mesocnus sp.\" were discovered in the states \"Pinar del RÃ­o\"\n",
      "the fossils of the species \"Protomegalonyx doellojuradoi\" were discovered in the states \"\"\n",
      "the fossils of the species \"Ortotherium scrofum\" were discovered in the states \"\"\n",
      "the fossils of the species \"Megalonyx jeffersonii\" were discovered in the states \"Alabama\", \"Montana\", \"Kansas\", \"Iowa\", \"Idaho\", \"California\", \"Alabama\", \"Idaho\", \"Yukon\", \"Missouri\", \"US\", \"US\", \"South Carolina\", \"US\", \"Kansas\", \"Arizona\", \"Illinois\", \"US\", \"Ohio\", \"Illinois\", \"Utah\", \"North Dakota\", \"Illinois\", \"Virginia\", \"Virginia\", \"West Virginia\", \"Florida\"\n",
      "the fossils of the species \"Hyperleptus sp.\" were discovered in the states \"Santa Cruz\", \"Santa Cruz\"\n",
      "the fossils of the species \"Mesocnus n. sp. browni\" were discovered in the states \"CU\"\n",
      "the fossils of the species \"Torcellia paranense\" were discovered in the states \"\"\n",
      "the fossils of the species \"Pliomorphus mutilatus\" were discovered in the states \"\"\n",
      "the fossils of the species \"Megalonyx cf. brachycephalus\" were discovered in the states \"Texas\"\n",
      "the fossils of the species \"Ocnopus gracilis\" were discovered in the states \"Sao Paulo\", \"Minas Gerais\"\n",
      "the fossils of the species \"Megalonyx rohrmanni\" were discovered in the states \"Washington\"\n",
      "the fossils of the species \"cf. Protomegalonyx sp.\" were discovered in the states \"Acre\"\n",
      "the fossils of the species \"Imagocnus zazae\" were discovered in the states \"Sancti Spiritus\"\n",
      "the fossils of the species \"Pliometanastes sp.\" were discovered in the states \"Nebraska\", \"US\", \"New Mexico\", \"California\"\n",
      "the fossils of the species \"Megalonyx ? jeffersonii\" were discovered in the states \"Oklahoma\"\n",
      "the fossils of the species \"Pliomorphus ameghinioi\" were discovered in the states \"\"\n",
      "the fossils of the species \"Ortotherium schlosseri\" were discovered in the states \"\"\n",
      "the fossils of the species \"Megalonychops primigenius\" were discovered in the states \"\"\n",
      "the fossils of the species \"Megalonyx cf. jeffersonii\" were discovered in the states \"Northwest Territories\",  1240, \"South Carolina\", \"US\", \"California\"\n",
      "the fossils of the species \"Megalonyx cf. curvidens\" were discovered in the states \"Nebraska\", \"Nebraska\", \"Nebraska\", \"Nebraska\", \"Nebraska\"\n",
      "the fossils of the species \"n. gen. Ahytherium n. sp. aureum\" were discovered in the states \"Bahia\"\n",
      "the fossils of the species \"Meizonyx salvadorensis\" were discovered in the states \"\"\n",
      "the fossils of the species \"Protomegalonyx chasicoensis\" were discovered in the states \"Buenos Aires\"\n",
      "the fossils of the species \"Megalonychidae ? indet.\" were discovered in the states \"Mendoza\"\n",
      "the fossils of the species \"Pliometanastes protistus\" were discovered in the states \"Florida\", \"Florida\", \"Florida\", \"California\"\n",
      "the fossils of the species \"cf. Ahytherium aureum\" were discovered in the states \"SÃ£o Paulo\"\n",
      "the fossils of the species \"Pliomorphus sp.\" were discovered in the states \"Acre\"\n",
      "the fossils of the species \"identified_name\" were discovered in the states \"state\"\n",
      "the fossils of the species \"Pliomorphus robustus\" were discovered in the states \"\"\n",
      "the fossils of the species \"Megalonyx cf. jeffersoni\" were discovered in the states \"US\"\n",
      "the fossils of the species \"n. gen. Paranabradys n. sp. vucetichae\" were discovered in the states \"Entre RÃ­os\"\n",
      "the fossils of the species \"Amphiocnus seneus\" were discovered in the states \"\"\n",
      "the fossils of the species \"Acratocnus odontrigonus\" were discovered in the states \"\"\n",
      "the fossils of the species \"Megalonychidae sp.\" were discovered in the states \"Puno\", \"La Guajira\"\n"
     ]
    }
   ],
   "source": [
    "from collections import defaultdict  #google\n",
    "\n",
    "def make_locational_sloth_dict(filename):\n",
    "   \n",
    "    slothDict = {}\n",
    "    \n",
    "    slothDict = defaultdict(list) #allows me to store lists in dictionary\n",
    "    \n",
    "    opening_sloth_data = open(filename, 'r', encoding = \"ISO-8859-1\")\n",
    "    reading_sloth_data = opening_sloth_data.readlines()[17:]\n",
    "    for line in reading_sloth_data:\n",
    "        species = line.split(\",\")[5]\n",
    "        state = line.split(\",\")[35]\n",
    "        if species not in slothDict.keys():\n",
    "            slothDict[species] = [state]  #storing state list as value\n",
    "        else: \n",
    "            slothDict[species].append(state)   \n",
    "    return slothDict\n",
    "\n",
    "slothData = make_locational_sloth_dict(\"formatted_sloth_pbdb_final_data.csv\")\n",
    "species = list(slothData.keys()) \n",
    "\n",
    "for i in range(len(species)):\n",
    "    \n",
    "    print(\"the fossils of the species \" + species[i] + \" were discovered in the states \" + \", \".join(slothData[species[i]]))"
   ]
  }
 ],
 "metadata": {
  "anaconda-cloud": {},
  "kernelspec": {
   "display_name": "Python [default]",
   "language": "python",
   "name": "python3"
  },
  "language_info": {
   "codemirror_mode": {
    "name": "ipython",
    "version": 3
   },
   "file_extension": ".py",
   "mimetype": "text/x-python",
   "name": "python",
   "nbconvert_exporter": "python",
   "pygments_lexer": "ipython3",
   "version": "3.5.2"
  }
 },
 "nbformat": 4,
 "nbformat_minor": 2
}
